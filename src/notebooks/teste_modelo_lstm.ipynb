{
 "cells": [
  {
   "cell_type": "code",
   "execution_count": null,
   "id": "12d02d54",
   "metadata": {},
   "outputs": [],
   "source": [
    "# Treinamento do modelo LSTM com dados do banco\n",
    "\n",
    "# 1. Conceito básico sobre LSTM\n",
    "\"\"\"\n",
    "LSTM (Long Short-Term Memory) é uma variante das redes neurais recorrentes (RNNs) projetada para aprender dependências de longo prazo em séries temporais.\n",
    "Ela é ideal para prever sequências de dados com padrões temporais, como vendas mensais, sinais de sensores, ou uso de medicamentos ao longo do tempo.\n",
    "\"\"\""
   ]
  },
  {
   "cell_type": "code",
   "execution_count": null,
   "id": "580f23e0",
   "metadata": {},
   "outputs": [],
   "source": [
    "\n",
    "# 2. Verificar uso de GPU\n",
    "import tensorflow as tf\n",
    "print(\"GPU disponível:\", tf.config.list_physical_devices('GPU'))"
   ]
  },
  {
   "cell_type": "code",
   "execution_count": null,
   "id": "79f5f4a8",
   "metadata": {},
   "outputs": [],
   "source": [
    "print(\"TensorFlow está usando GPU?\", tf.test.is_built_with_cuda())\n",
    "print(\"Dispositivos visíveis:\", tf.config.list_physical_devices())"
   ]
  },
  {
   "cell_type": "code",
   "execution_count": 12,
   "id": "81b875a3",
   "metadata": {},
   "outputs": [],
   "source": [
    "\n",
    "# 3. Carregar dados do banco de dados\n",
    "import os\n",
    "import pandas as pd\n",
    "from sqlalchemy import create_engine\n",
    "\n",
    "db_path = os.path.abspath(\"../storage/anvisa.db\")\n",
    "\n",
    "# Conecta ao banco SQLite\n",
    "engine = create_engine(f\"sqlite:///{db_path}\")\n",
    "\n",
    "# Exemplo de query (filtrar por substância ou UF para simplificar a série)\n",
    "query = \"\"\"\n",
    "SELECT ano_venda, mes_venda, qtd_unidade_farmacotecnica\n",
    "FROM vendas_manipulados\n",
    "WHERE tipo_unidade_farmacotecnica = 'CÁPSULA'  AND principio_ativo = 'CLORIDRATO DE FLUOXETINA' AND uf_venda = 'SP'\n",
    "\"\"\"\n",
    "\n",
    "# Executa consulta\n",
    "df = pd.read_sql(query, engine)"
   ]
  },
  {
   "cell_type": "code",
   "execution_count": null,
   "id": "4d5eadf6",
   "metadata": {},
   "outputs": [],
   "source": [
    "import os\n",
    "# Caminho relativo com base no notebook que está na pasta 'notebooks/'\n",
    "db_path = os.path.abspath(\"../storage/anvisa.db\")\n",
    "print(\"Caminho correto:\", db_path)"
   ]
  },
  {
   "cell_type": "code",
   "execution_count": null,
   "id": "e426e5c8",
   "metadata": {},
   "outputs": [],
   "source": [
    "\n",
    "# 4. Processar datas e normalizar\n",
    "from sklearn.preprocessing import MinMaxScaler\n",
    "import numpy as np\n",
    "\n",
    "# Cria campo de data\n",
    "df['DATA'] = pd.to_datetime(df['ano_venda'].astype(str) + '-' + df['mes_venda'].astype(str))\n",
    "df.set_index('DATA', inplace=True)\n",
    "\n",
    "# Agrupar por mês (caso haja dados duplicados)\n",
    "df = df[['qtd_unidade_farmacotecnica']].resample('M').sum()\n",
    "df = df.dropna()\n",
    "\n",
    "# Normaliza\n",
    "scaler = MinMaxScaler()\n",
    "df_scaled = scaler.fit_transform(df)"
   ]
  },
  {
   "cell_type": "code",
   "execution_count": null,
   "id": "51595c87",
   "metadata": {},
   "outputs": [],
   "source": [
    "\n",
    "# 5. Criar sequências para LSTM\n",
    "def criar_sequencias(data, seq_length):\n",
    "    X, y = [], []\n",
    "    for i in range(len(data) - seq_length):\n",
    "        X.append(data[i:i+seq_length])\n",
    "        y.append(data[i+seq_length])\n",
    "    return np.array(X), np.array(y)\n",
    "\n",
    "seq_length = 3\n",
    "X, y = criar_sequencias(df_scaled, seq_length)\n",
    "\n",
    "# Divide em treino e teste\n",
    "split = int(len(X) * 0.8)\n",
    "X_train, X_test = X[:split], X[split:]\n",
    "y_train, y_test = y[:split], y[split:]\n"
   ]
  },
  {
   "cell_type": "code",
   "execution_count": null,
   "id": "5db309c5",
   "metadata": {},
   "outputs": [],
   "source": [
    "# 6. Construir e treinar modelo\n",
    "from tensorflow.keras.models import Sequential\n",
    "from tensorflow.keras.layers import LSTM, Dense, Dropout\n",
    "\n",
    "model = Sequential([\n",
    "    LSTM(50, activation='relu', return_sequences=True, input_shape=(seq_length, 1)),\n",
    "    Dropout(0.2),\n",
    "    LSTM(50, activation='relu'),\n",
    "    Dense(1)\n",
    "])\n",
    "model.compile(optimizer='adam', loss='mse')\n",
    "\n",
    "# Treinamento\n",
    "history = model.fit(X_train, y_train, epochs=50, batch_size=16, validation_data=(X_test, y_test))"
   ]
  },
  {
   "cell_type": "code",
   "execution_count": null,
   "id": "f21910c5",
   "metadata": {},
   "outputs": [],
   "source": [
    "# 7. Avaliar e plotar previsão\n",
    "import matplotlib.pyplot as plt\n",
    "\n",
    "# Prever\n",
    "y_pred = model.predict(X_test)\n",
    "\n",
    "# Desnormalizar\n",
    "y_pred = scaler.inverse_transform(y_pred)\n",
    "y_test_real = scaler.inverse_transform(y_test)\n",
    "\n",
    "# Plot\n",
    "plt.figure(figsize=(10,5))\n",
    "plt.plot(y_test_real, label=\"Real\")\n",
    "plt.plot(y_pred, label=\"Previsto\")\n",
    "plt.legend()\n",
    "plt.title(\"Previsão com LSTM\")\n",
    "plt.xlabel(\"Tempo\")\n",
    "plt.ylabel(\"Qtd Unidades\")\n",
    "plt.grid(True)\n",
    "plt.show()"
   ]
  },
  {
   "cell_type": "code",
   "execution_count": null,
   "id": "58e8ff82",
   "metadata": {},
   "outputs": [],
   "source": [
    "# 8. Salvar modelo treinado\n",
    "model.save(\"artifacts/modelo_lstm.keras\")"
   ]
  }
 ],
 "metadata": {
  "kernelspec": {
   "display_name": ".venv",
   "language": "python",
   "name": "python3"
  },
  "language_info": {
   "codemirror_mode": {
    "name": "ipython",
    "version": 3
   },
   "file_extension": ".py",
   "mimetype": "text/x-python",
   "name": "python",
   "nbconvert_exporter": "python",
   "pygments_lexer": "ipython3",
   "version": "3.12.0"
  }
 },
 "nbformat": 4,
 "nbformat_minor": 5
}
